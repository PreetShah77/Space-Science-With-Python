{
 "cells": [
  {
   "cell_type": "markdown",
   "metadata": {},
   "source": [
    "import spicepy"
   ]
  },
  {
   "cell_type": "code",
   "execution_count": 2,
   "metadata": {},
   "outputs": [],
   "source": [
    "import spicepy\n",
    "import spiceypy as spice"
   ]
  },
  {
   "cell_type": "code",
   "execution_count": 3,
   "metadata": {},
   "outputs": [],
   "source": [
    "import datetime\n",
    "date_today = datetime.datetime.today()\n",
    "date_today = date_today.strftime(\"%Y-%m-%dT00:00:00\")"
   ]
  },
  {
   "cell_type": "code",
   "execution_count": 4,
   "metadata": {},
   "outputs": [
    {
     "name": "stdout",
     "output_type": "stream",
     "text": [
      "2023-08-05T00:00:00\n"
     ]
    }
   ],
   "source": [
    "print(date_today)"
   ]
  },
  {
   "cell_type": "code",
   "execution_count": 5,
   "metadata": {},
   "outputs": [],
   "source": [
    "spice.furnsh(\"../kernels/naif0012.tls\")\n",
    "spice.furnsh(\"../kernels/de432s.bsp\")"
   ]
  },
  {
   "cell_type": "code",
   "execution_count": 6,
   "metadata": {},
   "outputs": [
    {
     "name": "stdout",
     "output_type": "stream",
     "text": [
      "744465669.1831847\n"
     ]
    }
   ],
   "source": [
    "et_today_midnight = spice.utc2et(date_today)\n",
    "print(et_today_midnight)"
   ]
  },
  {
   "cell_type": "code",
   "execution_count": 7,
   "metadata": {},
   "outputs": [
    {
     "name": "stdout",
     "output_type": "stream",
     "text": [
      "[ 1.01613875e+08 -1.12737319e+08  5.56947591e+03  2.16407415e+01\n",
      "  1.98182770e+01 -2.13432880e-03]\n"
     ]
    }
   ],
   "source": [
    "earth_state_wrt_sun, earth_sun_light_time = spice.spkgeo(targ=399,et=et_today_midnight,\n",
    "                                                         ref=\"ECLIPJ2000\",obs=10)\n",
    "print(earth_state_wrt_sun)"
   ]
  },
  {
   "cell_type": "code",
   "execution_count": 8,
   "metadata": {},
   "outputs": [
    {
     "name": "stdout",
     "output_type": "stream",
     "text": [
      "151773129.10669494\n"
     ]
    }
   ],
   "source": [
    "import math\n",
    "earth_sun_distance = math.sqrt(earth_state_wrt_sun[0] ** 2.0 \n",
    "                               + earth_state_wrt_sun[1] ** 2.0\n",
    "                               + earth_state_wrt_sun[2] ** 2.0)\n",
    "print(earth_sun_distance)"
   ]
  },
  {
   "cell_type": "code",
   "execution_count": 9,
   "metadata": {},
   "outputs": [
    {
     "name": "stdout",
     "output_type": "stream",
     "text": [
      "1.0145407049183428\n"
     ]
    }
   ],
   "source": [
    "earth_sun_distance_au = spice.convrt(earth_sun_distance, \"km\", \"au\")\n",
    "print(earth_sun_distance_au)"
   ]
  }
 ],
 "metadata": {
  "kernelspec": {
   "display_name": "Python 3 (ipykernel)",
   "language": "python",
   "name": "python3"
  },
  "language_info": {
   "codemirror_mode": {
    "name": "ipython",
    "version": 3
   },
   "file_extension": ".py",
   "mimetype": "text/x-python",
   "name": "python",
   "nbconvert_exporter": "python",
   "pygments_lexer": "ipython3",
   "version": "3.9.17"
  },
  "orig_nbformat": 4
 },
 "nbformat": 4,
 "nbformat_minor": 2
}
