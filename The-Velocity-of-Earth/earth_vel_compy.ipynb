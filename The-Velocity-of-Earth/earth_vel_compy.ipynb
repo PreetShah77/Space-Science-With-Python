{
 "cells": [
  {
   "cell_type": "code",
   "execution_count": 9,
   "metadata": {},
   "outputs": [],
   "source": [
    "import spiceypy\n",
    "import spicepy\n",
    "import datetime\n",
    "date_today = datetime.datetime.today()\n",
    "date_today = date_today.strftime(\"%Y-%m-%dT00:00:00\")\n",
    "spiceypy.furnsh('../kernels/naif0012.tls')\n",
    "spiceypy.furnsh('../kernels/de432s.bsp')\n",
    "et_today_midnight = spiceypy.utc2et(date_today)\n",
    "earth_state_wrt_sun, earth_sun_light_time = spiceypy.spkgeo(targ=399,et=et_today_midnight,ref='ECLIPJ2000',obs=10)"
   ]
  },
  {
   "cell_type": "code",
   "execution_count": 3,
   "metadata": {},
   "outputs": [
    {
     "name": "stdout",
     "output_type": "stream",
     "text": [
      "State vector of the Earth w.r.t. the Sun for 2023-08-05T00:00:00 (midnight):\n",
      "[ 1.01613875e+08 -1.12737319e+08  5.56947591e+03  2.16407415e+01\n",
      "  1.98182770e+01 -2.13432880e-03]\n"
     ]
    }
   ],
   "source": [
    "print(f'State vector of the Earth w.r.t. the Sun for {date_today} (midnight):\\n'\n",
    "      + f'{earth_state_wrt_sun}')"
   ]
  },
  {
   "cell_type": "code",
   "execution_count": 8,
   "metadata": {},
   "outputs": [
    {
     "name": "stdout",
     "output_type": "stream",
     "text": [
      "29.34426348972277\n",
      "151773129.10669494\n"
     ]
    }
   ],
   "source": [
    "import numpy as np\n",
    "earth_state_wrt_sun = np.array(earth_state_wrt_sun)\n",
    "earth_sun_distance = np.linalg.norm(earth_state_wrt_sun[:3])\n",
    "earth_orb_speed_wrt_sun = np.linalg.norm(earth_state_wrt_sun[3:])\n",
    "print(earth_orb_speed_wrt_sun)\n",
    "print(earth_sun_distance)"
   ]
  },
  {
   "cell_type": "code",
   "execution_count": 11,
   "metadata": {},
   "outputs": [
    {
     "name": "stdout",
     "output_type": "stream",
     "text": [
      "Theoretical orbital speed of the Earth around the Sun in km/s: 29.570479919357883\n"
     ]
    }
   ],
   "source": [
    "spiceypy.furnsh('../kernels/gm_de431.tpc')\n",
    "_, GM_SUN = spiceypy.bodvcd(bodyid=10, item='GM', maxn=1)\n",
    "\n",
    "# Now compute the orbital speed\n",
    "v_orb_func = lambda gm, r: np.sqrt(gm/r)\n",
    "earth_orb_speed_wrt_sun_theory = v_orb_func(GM_SUN[0], earth_sun_distance)\n",
    "\n",
    "print(f'Theoretical orbital speed of the Earth around the Sun in km/s: '\n",
    "      + f'{earth_orb_speed_wrt_sun_theory}')"
   ]
  },
  {
   "cell_type": "code",
   "execution_count": 12,
   "metadata": {},
   "outputs": [],
   "source": [
    "# Position vector\n",
    "earth_position_wrt_sun = earth_state_wrt_sun[:3]\n",
    "\n",
    "# Normalize it\n",
    "earth_position_wrt_sun_normed = earth_position_wrt_sun / earth_sun_distance\n",
    "\n",
    "# Define the \"autumn vector\" of the Earth\n",
    "earth_position_wrt_sun_normed_autumn = np.array([1.0, 0.0, 0.0])"
   ]
  },
  {
   "cell_type": "code",
   "execution_count": 13,
   "metadata": {},
   "outputs": [
    {
     "name": "stdout",
     "output_type": "stream",
     "text": [
      "Angular distance between autumn and today's position in degrees 2023-08-05T00:00:00: 47.970616759657986\n"
     ]
    }
   ],
   "source": [
    "ang_dist_deg = np.degrees(np.arccos(np.dot(earth_position_wrt_sun_normed,\n",
    "                                           earth_position_wrt_sun_normed_autumn)))\n",
    "print(f\"Angular distance between autumn and today's position in degrees {date_today}: \"\n",
    "      + f\"{ang_dist_deg}\")"
   ]
  }
 ],
 "metadata": {
  "kernelspec": {
   "display_name": "Python 3 (ipykernel)",
   "language": "python",
   "name": "python3"
  },
  "language_info": {
   "codemirror_mode": {
    "name": "ipython",
    "version": 3
   },
   "file_extension": ".py",
   "mimetype": "text/x-python",
   "name": "python",
   "nbconvert_exporter": "python",
   "pygments_lexer": "ipython3",
   "version": "3.9.17"
  },
  "orig_nbformat": 4
 },
 "nbformat": 4,
 "nbformat_minor": 2
}
